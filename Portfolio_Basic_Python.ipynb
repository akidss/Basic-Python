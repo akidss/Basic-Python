{
  "nbformat": 4,
  "nbformat_minor": 0,
  "metadata": {
    "colab": {
      "provenance": [],
      "authorship_tag": "ABX9TyOT1URN/+FpIpVUnwL1oEIg",
      "include_colab_link": true
    },
    "kernelspec": {
      "name": "python3",
      "display_name": "Python 3"
    },
    "language_info": {
      "name": "python"
    }
  },
  "cells": [
    {
      "cell_type": "markdown",
      "metadata": {
        "id": "view-in-github",
        "colab_type": "text"
      },
      "source": [
        "<a href=\"https://colab.research.google.com/github/akidss/Basic-Python/blob/main/Portfolio_Basic_Python.ipynb\" target=\"_parent\"><img src=\"https://colab.research.google.com/assets/colab-badge.svg\" alt=\"Open In Colab\"/></a>"
      ]
    },
    {
      "cell_type": "markdown",
      "source": [
        "#**1.Variabel dan Type Data**"
      ],
      "metadata": {
        "id": "H2Mh1UAMUybQ"
      }
    },
    {
      "cell_type": "code",
      "execution_count": null,
      "metadata": {
        "colab": {
          "base_uri": "https://localhost:8080/"
        },
        "id": "2_S83qVpUvlJ",
        "outputId": "9ed1cdc9-5c0a-4bcc-e341-22d59520757e"
      },
      "outputs": [
        {
          "output_type": "stream",
          "name": "stdout",
          "text": [
            "Nama: Arhan Pratama, Umur: 25, Mahasiswa: True, Berat Badan: 65.5\n"
          ]
        }
      ],
      "source": [
        "# Variabel dan Tipe Data\n",
        "nama = \"Arhan Pratama\"\n",
        "umur = 25\n",
        "is_student = True\n",
        "berat_badan = 65.5\n",
        "\n",
        "print(f\"Nama: {nama}, Umur: {umur}, Mahasiswa: {is_student}, Berat Badan: {berat_badan}\")"
      ]
    },
    {
      "cell_type": "markdown",
      "source": [
        "#**2.Operator dan Ekpresi**"
      ],
      "metadata": {
        "id": "RT84O9gIVbn_"
      }
    },
    {
      "cell_type": "code",
      "source": [
        "# Operator Aritmatika\n",
        "x = 10\n",
        "y = 3\n",
        "print(f\"Penjumlahan: {x + y}\")\n",
        "print(f\"Pengurangan: {x - y}\")\n",
        "print(f\"Perkalian: {x * y}\")\n",
        "print(f\"Pembagian: {x / y}\")\n",
        "print(f\"Modulus: {x % y}\")\n",
        "print(f\"Pangkat: {x ** y}\")"
      ],
      "metadata": {
        "colab": {
          "base_uri": "https://localhost:8080/"
        },
        "id": "dr8JD2UgVmUR",
        "outputId": "569a785d-4ea0-4e82-ad5d-52816230d79c"
      },
      "execution_count": null,
      "outputs": [
        {
          "output_type": "stream",
          "name": "stdout",
          "text": [
            "Penjumlahan: 13\n",
            "Pengurangan: 7\n",
            "Perkalian: 30\n",
            "Pembagian: 3.3333333333333335\n",
            "Modulus: 1\n",
            "Pangkat: 1000\n"
          ]
        }
      ]
    },
    {
      "cell_type": "markdown",
      "source": [
        "#**3.Perulangan**"
      ],
      "metadata": {
        "id": "MvOurGiEVrXd"
      }
    },
    {
      "cell_type": "code",
      "source": [
        "for i in range(5):\n",
        "    print(f\"Iterasi ke-{i}\")\n",
        "\n",
        "# Perulangan While\n",
        "count = 0\n",
        "while count < 5:\n",
        "    print(f\"Count: {count}\")\n",
        "    count += 1"
      ],
      "metadata": {
        "colab": {
          "base_uri": "https://localhost:8080/"
        },
        "id": "sU_GglnfVxED",
        "outputId": "5949c91c-dc49-40ea-85c3-8076ab5773ec"
      },
      "execution_count": null,
      "outputs": [
        {
          "output_type": "stream",
          "name": "stdout",
          "text": [
            "Iterasi ke-0\n",
            "Iterasi ke-1\n",
            "Iterasi ke-2\n",
            "Iterasi ke-3\n",
            "Iterasi ke-4\n",
            "Count: 0\n",
            "Count: 1\n",
            "Count: 2\n",
            "Count: 3\n",
            "Count: 4\n"
          ]
        }
      ]
    },
    {
      "cell_type": "markdown",
      "source": [
        "#**4.Pernyataan Kondisional**"
      ],
      "metadata": {
        "id": "vmLG1Z9WV9gv"
      }
    },
    {
      "cell_type": "code",
      "source": [
        "# If-Else Statement\n",
        "nilai = 75\n",
        "if nilai >= 80:\n",
        "    print(\"A\")\n",
        "elif nilai >= 70:\n",
        "    print(\"B\")\n",
        "else:\n",
        "    print(\"C\")"
      ],
      "metadata": {
        "colab": {
          "base_uri": "https://localhost:8080/"
        },
        "id": "q6_4MYK4WDTf",
        "outputId": "6d6d019c-ae37-4c88-93d1-0abe801dc7ce"
      },
      "execution_count": null,
      "outputs": [
        {
          "output_type": "stream",
          "name": "stdout",
          "text": [
            "B\n"
          ]
        }
      ]
    },
    {
      "cell_type": "markdown",
      "source": [
        "#**5.Fungsi**"
      ],
      "metadata": {
        "id": "osseX43gWKHg"
      }
    },
    {
      "cell_type": "code",
      "source": [
        "def sapa(nama):\n",
        "    return f\"Halo, {nama}!\"\n",
        "\n",
        "print(sapa(\"Alice\"))"
      ],
      "metadata": {
        "colab": {
          "base_uri": "https://localhost:8080/"
        },
        "id": "pBpUEpHJWL6R",
        "outputId": "1e4b25ff-1cb7-4da2-bc76-3f575c48ba9d"
      },
      "execution_count": null,
      "outputs": [
        {
          "output_type": "stream",
          "name": "stdout",
          "text": [
            "Halo, Alice!\n"
          ]
        }
      ]
    },
    {
      "cell_type": "markdown",
      "source": [
        "#**6.List, Tuple, Dictionary, Set**"
      ],
      "metadata": {
        "id": "rOblcrgGWWGn"
      }
    },
    {
      "cell_type": "code",
      "source": [
        "# List\n",
        "angka = [1, 2, 3, 4]\n",
        "angka.append(5)\n",
        "print(angka)\n",
        "\n",
        "# Tuple\n",
        "data = (10, 20, 30)\n",
        "print(data[1])\n",
        "\n",
        "# Dictionary\n",
        "siswa = {\"nama\": \"Budi\", \"umur\": 20}\n",
        "print(siswa[\"nama\"])\n",
        "\n",
        "# Set\n",
        "unik = {1, 2, 3, 2, 1}\n",
        "print(unik)"
      ],
      "metadata": {
        "colab": {
          "base_uri": "https://localhost:8080/"
        },
        "id": "NGwaR1lxWay9",
        "outputId": "7ca895e5-0691-4375-993f-2e6d5b7728f1"
      },
      "execution_count": null,
      "outputs": [
        {
          "output_type": "stream",
          "name": "stdout",
          "text": [
            "[1, 2, 3, 4, 5]\n",
            "20\n",
            "Budi\n",
            "{1, 2, 3}\n"
          ]
        }
      ]
    },
    {
      "cell_type": "markdown",
      "source": [
        "#**7. Input dan Output**"
      ],
      "metadata": {
        "id": "PikjiUz3Wnd0"
      }
    },
    {
      "cell_type": "code",
      "source": [
        "nama = input(\"Masukkan nama Anda: \")\n",
        "print(f\"Halo, {nama}!\")"
      ],
      "metadata": {
        "colab": {
          "base_uri": "https://localhost:8080/"
        },
        "id": "fByOI2_KWuB3",
        "outputId": "a84a3b7e-9afd-4926-9b2a-deb3f78d2776"
      },
      "execution_count": null,
      "outputs": [
        {
          "output_type": "stream",
          "name": "stdout",
          "text": [
            "Masukkan nama Anda: Dika\n",
            "Halo, Dika!\n"
          ]
        }
      ]
    },
    {
      "cell_type": "markdown",
      "source": [
        "#**8. File Handling**"
      ],
      "metadata": {
        "id": "Yyq9gdaaWzU7"
      }
    },
    {
      "cell_type": "code",
      "source": [
        "with open(\"contoh.txt\", \"w\") as f:\n",
        "    f.write(\"Ini contoh file handling di Python.\")\n",
        "\n",
        "with open(\"contoh.txt\", \"r\") as f:\n",
        "    print(f.read())"
      ],
      "metadata": {
        "colab": {
          "base_uri": "https://localhost:8080/"
        },
        "id": "Ry3YNARmW3rD",
        "outputId": "ccec481b-718c-493d-8609-338663e441ef"
      },
      "execution_count": null,
      "outputs": [
        {
          "output_type": "stream",
          "name": "stdout",
          "text": [
            "Ini contoh file handling di Python.\n"
          ]
        }
      ]
    },
    {
      "cell_type": "markdown",
      "source": [
        "#**9. Pemrograman Berorientasi Objek**"
      ],
      "metadata": {
        "id": "SatreP0LW9qG"
      }
    },
    {
      "cell_type": "code",
      "source": [
        "class Mahasiswa:\n",
        "    def __init__(self, nama, umur):\n",
        "        self.nama = nama\n",
        "        self.umur = umur\n",
        "\n",
        "    def perkenalan(self):\n",
        "        return f\"Halo, nama saya {self.nama} dan umur saya {self.umur} tahun.\"\n",
        "\n",
        "# Create a list of Mahasiswa objects\n",
        "mhs = [Mahasiswa(\"Dina\", 22), Mahasiswa(\"Arhan\", 25), Mahasiswa(\"Farhan\", 20)]\n",
        "# Changed to list, to store multiple students\n",
        "\n",
        "# Iterate through the list and call perkenalan() on each object\n",
        "for mahasiswa in mhs:\n",
        "    print(mahasiswa.perkenalan()) # Call the method on each student object"
      ],
      "metadata": {
        "colab": {
          "base_uri": "https://localhost:8080/"
        },
        "id": "iVt8hPgMXAvJ",
        "outputId": "203ff8df-e0a9-4f03-aefe-5185e1546b9f"
      },
      "execution_count": null,
      "outputs": [
        {
          "output_type": "stream",
          "name": "stdout",
          "text": [
            "Halo, nama saya Dina dan umur saya 22 tahun.\n",
            "Halo, nama saya Arhan dan umur saya 25 tahun.\n",
            "Halo, nama saya Farhan dan umur saya 20 tahun.\n"
          ]
        }
      ]
    }
  ]
}